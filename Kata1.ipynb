{
 "cells": [
  {
   "cell_type": "markdown",
   "metadata": {},
   "source": [
    "Kata1"
   ]
  },
  {
   "cell_type": "code",
   "execution_count": 10,
   "metadata": {},
   "outputs": [
    {
     "name": "stdout",
     "output_type": "stream",
     "text": [
      "La fecha de hoy es 2022-02-07\n"
     ]
    }
   ],
   "source": [
    "from datetime import date\n",
    "print (\"La fecha de hoy es \" + str(date.today()))\n"
   ]
  },
  {
   "cell_type": "code",
   "execution_count": 13,
   "metadata": {},
   "outputs": [
    {
     "name": "stdout",
     "output_type": "stream",
     "text": [
      "11 Parsec, is 35.8772 LightYears\n"
     ]
    }
   ],
   "source": [
    "parsec = 11\n",
    "lightyears = 3.26156 * parsec \n",
    "#print(str(parsec) + \" Parsec, is \"  + str(lightyears) + \" LightYears\" )\n",
    "print(str(parsec) + \" Parsec, is \"  + \"{:.4f}\".format(float(lightyears)) + \" LightYears\" ) # {:.2f}\".format(variable) permite que la salida en un print el resultado float se vizualice con n decimales."
   ]
  }
 ],
 "metadata": {
  "interpreter": {
   "hash": "cc5538fc9e48c318b89949a63a1306411fa8a24beb903b243c3b5ea06f3ccc28"
  },
  "kernelspec": {
   "display_name": "Python 3.10.2 64-bit",
   "language": "python",
   "name": "python3"
  },
  "language_info": {
   "codemirror_mode": {
    "name": "ipython",
    "version": 3
   },
   "file_extension": ".py",
   "mimetype": "text/x-python",
   "name": "python",
   "nbconvert_exporter": "python",
   "pygments_lexer": "ipython3",
   "version": "3.10.2"
  },
  "orig_nbformat": 4
 },
 "nbformat": 4,
 "nbformat_minor": 2
}
