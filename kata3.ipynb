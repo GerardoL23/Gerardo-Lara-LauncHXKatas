{
 "cells": [
  {
   "cell_type": "markdown",
   "metadata": {},
   "source": [
    "KATA-3\n",
    "Gerardo Lara\n",
    "Lunch X Modulo 3\n",
    "Expresiones Condicionales"
   ]
  },
  {
   "cell_type": "code",
   "execution_count": 4,
   "metadata": {},
   "outputs": [
    {
     "name": "stdout",
     "output_type": "stream",
     "text": [
      "A es igual a b\n"
     ]
    }
   ],
   "source": [
    "a=7\n",
    "b=7\n",
    "c=5\n",
    "d=7\n",
    "if a == b:\n",
    "    print(\"A es igual a b\")"
   ]
  },
  {
   "cell_type": "code",
   "execution_count": 9,
   "metadata": {},
   "outputs": [
    {
     "name": "stdout",
     "output_type": "stream",
     "text": [
      "ALERTA! ALERTA! ALERTA! ASTEROIDE A  49 km/s\n"
     ]
    }
   ],
   "source": [
    "#Ejercicio 1\n",
    "#Para este ejercicio, escribirás una lógica condicional que imprima una advertencia si un asteroide se acerca a la Tierra demasiado rápido. \n",
    "# La velocidad del asteroide varía dependiendo de lo cerca que esté del sol, y cualquier velocidad superior a 25 kilómetros por segundo (km/s) merece una advertencia.\n",
    "#Un asteroide se acerca, y viaja a una velocidad de 49 km/s.\n",
    "\n",
    "asteroide_velocidad = 49 \n",
    "\n",
    "if asteroide_velocidad >25:\n",
    "    print (\"ALERTA! ALERTA! ALERTA! ASTEROIDE A \", str(asteroide_velocidad), \"km/s\")\n",
    "else:\n",
    "    print(\"Sin alertas inminente\")\n"
   ]
  },
  {
   "cell_type": "code",
   "execution_count": 15,
   "metadata": {},
   "outputs": [
    {
     "name": "stdout",
     "output_type": "stream",
     "text": [
      "Nada que observar \n"
     ]
    }
   ],
   "source": [
    "#Ejercicio 2\n",
    "#Si un asteroide entra en la atmósfera de la Tierra a una velocidad mayor o igual a 20 km/s, a veces produce un rayo de luz que se puede ver desde la Tierra. \n",
    "#Escribe la lógica condicional que usa declaraciones if, else, y elif para alertar a las personas de todo el mundo que deben buscar un asteroide en el cielo. \n",
    "#¡Hay uno que se dirige a la tierra ahora a una velocidad de 19 km/s!\n",
    "\n",
    "asteroide_velocidad =19\n",
    "\n",
    "if asteroide_velocidad > 20:\n",
    "    print (\"Alerta!! Se puede ver destello en el cielo\")\n",
    "\n",
    "elif asteroide_velocidad == 20:                             #Variable >= dato\n",
    "    print (\"Alerta!! Se puede ver destello en el cielo\")\n",
    "\n",
    "else:\n",
    "    print(\"Nada que observar \")"
   ]
  },
  {
   "cell_type": "code",
   "execution_count": 2,
   "metadata": {},
   "outputs": [
    {
     "name": "stdout",
     "output_type": "stream",
     "text": [
      "Alerta ! Destello de asteriode\n"
     ]
    }
   ],
   "source": [
    "#Ejercicio 3\n",
    "#Operadores AND y OR\n",
    "\n",
    "medida_asteroide = 35\n",
    "asteroide_velocidad = 25\n",
    "\n",
    "if asteroide_velocidad > 25 and medida_asteroide > 25: \n",
    "    print(\"ALERTA IMPACTO INMINENTE DE ASTEROIDE\")\n",
    "elif asteroide_velocidad >= 20:\n",
    "    print(\"Alerta ! Destello de asteriode\")\n",
    "elif medida_asteroide < 25:\n",
    "    print (\" Zona segura\")\n",
    "else :\n",
    "    print (\"Zona segura\")\n",
    "\n"
   ]
  }
 ],
 "metadata": {
  "interpreter": {
   "hash": "cd51e37d91f9653ab6247c1d90e250cf9a028c695a07f71587aee027e3c7b1da"
  },
  "kernelspec": {
   "display_name": "Python 3.10.2 64-bit (windows store)",
   "language": "python",
   "name": "python3"
  },
  "language_info": {
   "codemirror_mode": {
    "name": "ipython",
    "version": 3
   },
   "file_extension": ".py",
   "mimetype": "text/x-python",
   "name": "python",
   "nbconvert_exporter": "python",
   "pygments_lexer": "ipython3",
   "version": "3.10.2"
  },
  "orig_nbformat": 4
 },
 "nbformat": 4,
 "nbformat_minor": 2
}
